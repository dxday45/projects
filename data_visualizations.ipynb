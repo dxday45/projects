{
 "cells": [
  {
   "cell_type": "code",
   "execution_count": 9,
   "id": "a4d1c3c4",
   "metadata": {},
   "outputs": [],
   "source": [
    "import pandas as pd\n",
    "import os\n",
    "import matplotlib.pyplot as plt\n",
    "import seaborn as sns"
   ]
  },
  {
   "cell_type": "code",
   "execution_count": 4,
   "id": "821eb0a1",
   "metadata": {},
   "outputs": [],
   "source": [
    "DD = '/Users/donaldday/Documents/projects'"
   ]
  },
  {
   "cell_type": "code",
   "execution_count": 6,
   "id": "71dd50f2",
   "metadata": {},
   "outputs": [],
   "source": [
    "hitting = pd.read_csv(os.path.join(DD, 'hitting_2021'))"
   ]
  },
  {
   "cell_type": "code",
   "execution_count": 7,
   "id": "c2010490",
   "metadata": {},
   "outputs": [
    {
     "data": {
      "text/html": [
       "<div>\n",
       "<style scoped>\n",
       "    .dataframe tbody tr th:only-of-type {\n",
       "        vertical-align: middle;\n",
       "    }\n",
       "\n",
       "    .dataframe tbody tr th {\n",
       "        vertical-align: top;\n",
       "    }\n",
       "\n",
       "    .dataframe thead th {\n",
       "        text-align: right;\n",
       "    }\n",
       "</style>\n",
       "<table border=\"1\" class=\"dataframe\">\n",
       "  <thead>\n",
       "    <tr style=\"text-align: right;\">\n",
       "      <th></th>\n",
       "      <th>sport_id</th>\n",
       "      <th>league_short</th>\n",
       "      <th>hr</th>\n",
       "      <th>team_id</th>\n",
       "      <th>season</th>\n",
       "      <th>ab</th>\n",
       "      <th>hldr</th>\n",
       "      <th>league</th>\n",
       "      <th>sport_code</th>\n",
       "      <th>ao</th>\n",
       "      <th>...</th>\n",
       "      <th>go</th>\n",
       "      <th>team_seq</th>\n",
       "      <th>tb</th>\n",
       "      <th>cs</th>\n",
       "      <th>r</th>\n",
       "      <th>t</th>\n",
       "      <th>babip</th>\n",
       "      <th>obp</th>\n",
       "      <th>sport</th>\n",
       "      <th>league_id</th>\n",
       "    </tr>\n",
       "  </thead>\n",
       "  <tbody>\n",
       "    <tr>\n",
       "      <th>0</th>\n",
       "      <td>1</td>\n",
       "      <td>National</td>\n",
       "      <td>5</td>\n",
       "      <td>109</td>\n",
       "      <td>2021</td>\n",
       "      <td>434</td>\n",
       "      <td>47</td>\n",
       "      <td>NL</td>\n",
       "      <td>mlb</td>\n",
       "      <td>111</td>\n",
       "      <td>...</td>\n",
       "      <td>126</td>\n",
       "      <td>1.0</td>\n",
       "      <td>147</td>\n",
       "      <td>2</td>\n",
       "      <td>46</td>\n",
       "      <td>3</td>\n",
       "      <td>.279</td>\n",
       "      <td>.280</td>\n",
       "      <td>MLB</td>\n",
       "      <td>104</td>\n",
       "    </tr>\n",
       "    <tr>\n",
       "      <th>1</th>\n",
       "      <td>1</td>\n",
       "      <td>National</td>\n",
       "      <td>5</td>\n",
       "      <td>112</td>\n",
       "      <td>2021</td>\n",
       "      <td>220</td>\n",
       "      <td>21</td>\n",
       "      <td>NL</td>\n",
       "      <td>mlb</td>\n",
       "      <td>49</td>\n",
       "      <td>...</td>\n",
       "      <td>55</td>\n",
       "      <td>1.0</td>\n",
       "      <td>72</td>\n",
       "      <td>0</td>\n",
       "      <td>30</td>\n",
       "      <td>3</td>\n",
       "      <td>.280</td>\n",
       "      <td>.303</td>\n",
       "      <td>MLB</td>\n",
       "      <td>104</td>\n",
       "    </tr>\n",
       "    <tr>\n",
       "      <th>2</th>\n",
       "      <td>1</td>\n",
       "      <td>National</td>\n",
       "      <td>1</td>\n",
       "      <td>109</td>\n",
       "      <td>2021</td>\n",
       "      <td>9</td>\n",
       "      <td>3</td>\n",
       "      <td>NL</td>\n",
       "      <td>mlb</td>\n",
       "      <td>2</td>\n",
       "      <td>...</td>\n",
       "      <td>0</td>\n",
       "      <td>1.0</td>\n",
       "      <td>8</td>\n",
       "      <td>0</td>\n",
       "      <td>4</td>\n",
       "      <td>0</td>\n",
       "      <td>.600</td>\n",
       "      <td>.500</td>\n",
       "      <td>MLB</td>\n",
       "      <td>104</td>\n",
       "    </tr>\n",
       "    <tr>\n",
       "      <th>3</th>\n",
       "      <td>1</td>\n",
       "      <td>National</td>\n",
       "      <td>0</td>\n",
       "      <td>109</td>\n",
       "      <td>2021</td>\n",
       "      <td>39</td>\n",
       "      <td>3</td>\n",
       "      <td>NL</td>\n",
       "      <td>mlb</td>\n",
       "      <td>5</td>\n",
       "      <td>...</td>\n",
       "      <td>4</td>\n",
       "      <td>1.0</td>\n",
       "      <td>5</td>\n",
       "      <td>0</td>\n",
       "      <td>3</td>\n",
       "      <td>0</td>\n",
       "      <td>.364</td>\n",
       "      <td>.280</td>\n",
       "      <td>MLB</td>\n",
       "      <td>104</td>\n",
       "    </tr>\n",
       "    <tr>\n",
       "      <th>4</th>\n",
       "      <td>1</td>\n",
       "      <td>National</td>\n",
       "      <td>1</td>\n",
       "      <td>109</td>\n",
       "      <td>2021</td>\n",
       "      <td>6</td>\n",
       "      <td>1</td>\n",
       "      <td>NL</td>\n",
       "      <td>mlb</td>\n",
       "      <td>1</td>\n",
       "      <td>...</td>\n",
       "      <td>2</td>\n",
       "      <td>1.0</td>\n",
       "      <td>6</td>\n",
       "      <td>0</td>\n",
       "      <td>1</td>\n",
       "      <td>0</td>\n",
       "      <td>.400</td>\n",
       "      <td>.429</td>\n",
       "      <td>MLB</td>\n",
       "      <td>104</td>\n",
       "    </tr>\n",
       "  </tbody>\n",
       "</table>\n",
       "<p>5 rows × 53 columns</p>\n",
       "</div>"
      ],
      "text/plain": [
       "   sport_id league_short  hr  team_id  season   ab  hldr league sport_code  \\\n",
       "0         1     National   5      109    2021  434    47     NL        mlb   \n",
       "1         1     National   5      112    2021  220    21     NL        mlb   \n",
       "2         1     National   1      109    2021    9     3     NL        mlb   \n",
       "3         1     National   0      109    2021   39     3     NL        mlb   \n",
       "4         1     National   1      109    2021    6     1     NL        mlb   \n",
       "\n",
       "    ao  ...   go team_seq   tb cs   r  t babip   obp  sport  league_id  \n",
       "0  111  ...  126      1.0  147  2  46  3  .279  .280    MLB        104  \n",
       "1   49  ...   55      1.0   72  0  30  3  .280  .303    MLB        104  \n",
       "2    2  ...    0      1.0    8  0   4  0  .600  .500    MLB        104  \n",
       "3    5  ...    4      1.0    5  0   3  0  .364  .280    MLB        104  \n",
       "4    1  ...    2      1.0    6  0   1  0  .400  .429    MLB        104  \n",
       "\n",
       "[5 rows x 53 columns]"
      ]
     },
     "execution_count": 7,
     "metadata": {},
     "output_type": "execute_result"
    }
   ],
   "source": [
    "hitting.head()"
   ]
  },
  {
   "cell_type": "code",
   "execution_count": 8,
   "id": "710cf8c8",
   "metadata": {
    "scrolled": true
   },
   "outputs": [
    {
     "data": {
      "text/plain": [
       "Index(['sport_id', 'league_short', 'hr', 'team_id', 'season', 'ab', 'hldr',\n",
       "       'league', 'sport_code', 'ao', 'slg', 'team_full', 'ops', 'team_abbrev',\n",
       "       'hbp', 'rbi', 'go_ao', 'hfly', 'lob', 'xbh', 'end_date', 'bb', 'np',\n",
       "       'hgnd', 'roe', 'sb', 'player_id', 'avg', 'sf', 'sac', 'wo',\n",
       "       'team_short', 'hpop', 'so', 'gidp_opp', 'gidp', 'ppa', 'd', 'tpa',\n",
       "       'league_full', 'g', 'h', 'ibb', 'go', 'team_seq', 'tb', 'cs', 'r', 't',\n",
       "       'babip', 'obp', 'sport', 'league_id'],\n",
       "      dtype='object')"
      ]
     },
     "execution_count": 8,
     "metadata": {},
     "output_type": "execute_result"
    }
   ],
   "source": [
    "hitting.keys()"
   ]
  },
  {
   "cell_type": "code",
   "execution_count": 24,
   "id": "78ef78ee",
   "metadata": {},
   "outputs": [
    {
     "data": {
      "text/plain": [
       "<seaborn.axisgrid.FacetGrid at 0x7f96f033ddf0>"
      ]
     },
     "execution_count": 24,
     "metadata": {},
     "output_type": "execute_result"
    },
    {
     "data": {
      "image/png": "[encoded data removed]",
      "text/plain": [
       "<Figure size 360x360 with 1 Axes>"
      ]
     },
     "metadata": {},
     "output_type": "display_data"
    }
   ],
   "source": [
    "sns.set_style('ticks')\n",
    "sns.set_palette('viridis')\n",
    "g = sns.displot(hitting, x = 'h', fill = True, bins = 9)\n",
    "g.fig.suptitle('Number of Hits', size = 30, fontweight = 'bold', family = 'cursive')\n",
    "g.fig.subplots_adjust(top = 0.90)\n",
    "g.set_axis_labels('Hits', '# of Players', size = 20, fontstyle = 'italic', family = 'fantasy')"
   ]
  },
  {
   "cell_type": "code",
   "execution_count": null,
   "id": "49c037ee",
   "metadata": {},
   "outputs": [],
   "source": []
  }
 ],
 "metadata": {
  "kernelspec": {
   "display_name": "Python 3 (ipykernel)",
   "language": "python",
   "name": "python3"
  },
  "language_info": {
   "codemirror_mode": {
    "name": "ipython",
    "version": 3
   },
   "file_extension": ".py",
   "mimetype": "text/x-python",
   "name": "python",
   "nbconvert_exporter": "python",
   "pygments_lexer": "ipython3",
   "version": "3.8.8"
  }
 },
 "nbformat": 4,
 "nbformat_minor": 5
}
