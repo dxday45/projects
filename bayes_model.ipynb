{
 "cells": [
  {
   "cell_type": "markdown",
   "id": "68355e3b",
   "metadata": {},
   "source": [
    "# Naive Bayes Classification\n",
    "## Gaussian Model"
   ]
  },
  {
   "cell_type": "code",
   "execution_count": 1,
   "id": "071268bb",
   "metadata": {},
   "outputs": [],
   "source": [
    "# Importing basic libraries\n",
    "import pandas as pd\n",
    "import numpy as np\n",
    "import matplotlib.pyplot as plt\n",
    "import seaborn as sns\n",
    "%matplotlib inline\n"
   ]
  },
  {
   "cell_type": "code",
   "execution_count": 2,
   "id": "7bc9d713",
   "metadata": {},
   "outputs": [],
   "source": [
    "# Reading in titanic files\n",
    "train_file = 'train.csv'\n",
    "test_file = 'test.csv'"
   ]
  },
  {
   "cell_type": "code",
   "execution_count": 3,
   "id": "5a7419b9",
   "metadata": {},
   "outputs": [],
   "source": [
    "data_train = pd.read_csv(train_file)\n",
    "data_test = pd.read_csv(test_file)"
   ]
  },
  {
   "cell_type": "code",
   "execution_count": 4,
   "id": "e1332804",
   "metadata": {
    "scrolled": true
   },
   "outputs": [
    {
     "name": "stdout",
     "output_type": "stream",
     "text": [
      "   PassengerId  Survived  Pclass  \\\n",
      "0            1         0       3   \n",
      "1            2         1       1   \n",
      "2            3         1       3   \n",
      "3            4         1       1   \n",
      "4            5         0       3   \n",
      "\n",
      "                                                Name     Sex   Age  SibSp  \\\n",
      "0                            Braund, Mr. Owen Harris    male  22.0      1   \n",
      "1  Cumings, Mrs. John Bradley (Florence Briggs Th...  female  38.0      1   \n",
      "2                             Heikkinen, Miss. Laina  female  26.0      0   \n",
      "3       Futrelle, Mrs. Jacques Heath (Lily May Peel)  female  35.0      1   \n",
      "4                           Allen, Mr. William Henry    male  35.0      0   \n",
      "\n",
      "   Parch            Ticket     Fare Cabin Embarked  \n",
      "0      0         A/5 21171   7.2500   NaN        S  \n",
      "1      0          PC 17599  71.2833   C85        C  \n",
      "2      0  STON/O2. 3101282   7.9250   NaN        S  \n",
      "3      0            113803  53.1000  C123        S  \n",
      "4      0            373450   8.0500   NaN        S  \n",
      "   PassengerId  Pclass                                          Name     Sex  \\\n",
      "0          892       3                              Kelly, Mr. James    male   \n",
      "1          893       3              Wilkes, Mrs. James (Ellen Needs)  female   \n",
      "2          894       2                     Myles, Mr. Thomas Francis    male   \n",
      "3          895       3                              Wirz, Mr. Albert    male   \n",
      "4          896       3  Hirvonen, Mrs. Alexander (Helga E Lindqvist)  female   \n",
      "\n",
      "    Age  SibSp  Parch   Ticket     Fare Cabin Embarked  \n",
      "0  34.5      0      0   330911   7.8292   NaN        Q  \n",
      "1  47.0      1      0   363272   7.0000   NaN        S  \n",
      "2  62.0      0      0   240276   9.6875   NaN        Q  \n",
      "3  27.0      0      0   315154   8.6625   NaN        S  \n",
      "4  22.0      1      1  3101298  12.2875   NaN        S  \n"
     ]
    }
   ],
   "source": [
    "print(data_train.head())\n",
    "print(data_test.head())"
   ]
  },
  {
   "cell_type": "markdown",
   "id": "42efff98",
   "metadata": {},
   "source": [
    "## Summary Statistics"
   ]
  },
  {
   "cell_type": "code",
   "execution_count": 5,
   "id": "d9202c61",
   "metadata": {
    "scrolled": true
   },
   "outputs": [
    {
     "data": {
      "text/html": [
       "<div>\n",
       "<style scoped>\n",
       "    .dataframe tbody tr th:only-of-type {\n",
       "        vertical-align: middle;\n",
       "    }\n",
       "\n",
       "    .dataframe tbody tr th {\n",
       "        vertical-align: top;\n",
       "    }\n",
       "\n",
       "    .dataframe thead th {\n",
       "        text-align: right;\n",
       "    }\n",
       "</style>\n",
       "<table border=\"1\" class=\"dataframe\">\n",
       "  <thead>\n",
       "    <tr style=\"text-align: right;\">\n",
       "      <th></th>\n",
       "      <th>PassengerId</th>\n",
       "      <th>Pclass</th>\n",
       "      <th>Age</th>\n",
       "      <th>SibSp</th>\n",
       "      <th>Parch</th>\n",
       "      <th>Fare</th>\n",
       "    </tr>\n",
       "  </thead>\n",
       "  <tbody>\n",
       "    <tr>\n",
       "      <th>count</th>\n",
       "      <td>418.000000</td>\n",
       "      <td>418.000000</td>\n",
       "      <td>332.000000</td>\n",
       "      <td>418.000000</td>\n",
       "      <td>418.000000</td>\n",
       "      <td>417.000000</td>\n",
       "    </tr>\n",
       "    <tr>\n",
       "      <th>mean</th>\n",
       "      <td>1100.500000</td>\n",
       "      <td>2.265550</td>\n",
       "      <td>30.272590</td>\n",
       "      <td>0.447368</td>\n",
       "      <td>0.392344</td>\n",
       "      <td>35.627188</td>\n",
       "    </tr>\n",
       "    <tr>\n",
       "      <th>std</th>\n",
       "      <td>120.810458</td>\n",
       "      <td>0.841838</td>\n",
       "      <td>14.181209</td>\n",
       "      <td>0.896760</td>\n",
       "      <td>0.981429</td>\n",
       "      <td>55.907576</td>\n",
       "    </tr>\n",
       "    <tr>\n",
       "      <th>min</th>\n",
       "      <td>892.000000</td>\n",
       "      <td>1.000000</td>\n",
       "      <td>0.170000</td>\n",
       "      <td>0.000000</td>\n",
       "      <td>0.000000</td>\n",
       "      <td>0.000000</td>\n",
       "    </tr>\n",
       "    <tr>\n",
       "      <th>25%</th>\n",
       "      <td>996.250000</td>\n",
       "      <td>1.000000</td>\n",
       "      <td>21.000000</td>\n",
       "      <td>0.000000</td>\n",
       "      <td>0.000000</td>\n",
       "      <td>7.895800</td>\n",
       "    </tr>\n",
       "    <tr>\n",
       "      <th>50%</th>\n",
       "      <td>1100.500000</td>\n",
       "      <td>3.000000</td>\n",
       "      <td>27.000000</td>\n",
       "      <td>0.000000</td>\n",
       "      <td>0.000000</td>\n",
       "      <td>14.454200</td>\n",
       "    </tr>\n",
       "    <tr>\n",
       "      <th>75%</th>\n",
       "      <td>1204.750000</td>\n",
       "      <td>3.000000</td>\n",
       "      <td>39.000000</td>\n",
       "      <td>1.000000</td>\n",
       "      <td>0.000000</td>\n",
       "      <td>31.500000</td>\n",
       "    </tr>\n",
       "    <tr>\n",
       "      <th>max</th>\n",
       "      <td>1309.000000</td>\n",
       "      <td>3.000000</td>\n",
       "      <td>76.000000</td>\n",
       "      <td>8.000000</td>\n",
       "      <td>9.000000</td>\n",
       "      <td>512.329200</td>\n",
       "    </tr>\n",
       "  </tbody>\n",
       "</table>\n",
       "</div>"
      ],
      "text/plain": [
       "       PassengerId      Pclass         Age       SibSp       Parch        Fare\n",
       "count   418.000000  418.000000  332.000000  418.000000  418.000000  417.000000\n",
       "mean   1100.500000    2.265550   30.272590    0.447368    0.392344   35.627188\n",
       "std     120.810458    0.841838   14.181209    0.896760    0.981429   55.907576\n",
       "min     892.000000    1.000000    0.170000    0.000000    0.000000    0.000000\n",
       "25%     996.250000    1.000000   21.000000    0.000000    0.000000    7.895800\n",
       "50%    1100.500000    3.000000   27.000000    0.000000    0.000000   14.454200\n",
       "75%    1204.750000    3.000000   39.000000    1.000000    0.000000   31.500000\n",
       "max    1309.000000    3.000000   76.000000    8.000000    9.000000  512.329200"
      ]
     },
     "execution_count": 5,
     "metadata": {},
     "output_type": "execute_result"
    }
   ],
   "source": [
    "data_train.describe()\n",
    "data_test.describe()"
   ]
  },
  {
   "cell_type": "code",
   "execution_count": 8,
   "id": "22a62c1d",
   "metadata": {},
   "outputs": [
    {
     "data": {
      "text/plain": [
       "[Text(0, 0, '549'), Text(0, 0, '342')]"
      ]
     },
     "execution_count": 8,
     "metadata": {},
     "output_type": "execute_result"
    },
    {
     "data": {
      "image/png": "[encoded data removed]",
      "text/plain": [
       "<Figure size 432x288 with 1 Axes>"
      ]
     },
     "metadata": {
      "needs_background": "light"
     },
     "output_type": "display_data"
    }
   ],
   "source": [
    "ax = sns.countplot(x = 'Survived', data = data_train, palette = 'cubehelix')\n",
    "ax.bar_label(ax.containers[0])"
   ]
  },
  {
   "cell_type": "code",
   "execution_count": 9,
   "id": "f975e19c",
   "metadata": {},
   "outputs": [
    {
     "data": {
      "image/png": "[encoded data removed]",
      "text/plain": [
       "<Figure size 432x288 with 1 Axes>"
      ]
     },
     "metadata": {
      "needs_background": "light"
     },
     "output_type": "display_data"
    }
   ],
   "source": [
    "ax = sns.countplot(x = 'Survived', hue = 'Sex', data = data_train, palette = 'icefire')\n",
    "for container in ax.containers:\n",
    "    ax.bar_label(container)"
   ]
  },
  {
   "cell_type": "code",
   "execution_count": 10,
   "id": "3add3ca0",
   "metadata": {},
   "outputs": [
    {
     "data": {
      "image/png": "[encoded data removed]",
      "text/plain": [
       "<Figure size 432x288 with 1 Axes>"
      ]
     },
     "metadata": {
      "needs_background": "light"
     },
     "output_type": "display_data"
    }
   ],
   "source": [
    "ax = sns.countplot(x = 'Survived', hue = 'Pclass', data = data_train, palette = 'coolwarm')\n",
    "for container in ax.containers:\n",
    "    ax.bar_label(container)"
   ]
  },
  {
   "cell_type": "code",
   "execution_count": 11,
   "id": "174ef111",
   "metadata": {},
   "outputs": [
    {
     "name": "stderr",
     "output_type": "stream",
     "text": [
      "/Applications/anaconda3/lib/python3.8/site-packages/seaborn/_decorators.py:36: FutureWarning: Pass the following variables as keyword args: x, y. From version 0.12, the only valid positional argument will be `data`, and passing other arguments without an explicit keyword will result in an error or misinterpretation.\n",
      "  warnings.warn(\n"
     ]
    },
    {
     "data": {
      "text/plain": [
       "<AxesSubplot:xlabel='Pclass', ylabel='Age'>"
      ]
     },
     "execution_count": 11,
     "metadata": {},
     "output_type": "execute_result"
    },
    {
     "data": {
      "image/png": "[encoded data removed]",
      "text/plain": [
       "<Figure size 432x288 with 1 Axes>"
      ]
     },
     "metadata": {
      "needs_background": "light"
     },
     "output_type": "display_data"
    }
   ],
   "source": [
    "sns.boxplot(data_train['Pclass'], data_train['Age'], palette = 'viridis')"
   ]
  },
  {
   "cell_type": "markdown",
   "id": "e9244fc0",
   "metadata": {},
   "source": [
    "## Cleaning the data"
   ]
  },
  {
   "cell_type": "code",
   "execution_count": 7,
   "id": "87420657",
   "metadata": {},
   "outputs": [
    {
     "data": {
      "text/plain": [
       "<AxesSubplot:>"
      ]
     },
     "execution_count": 7,
     "metadata": {},
     "output_type": "execute_result"
    },
    {
     "data": {
      "image/png": "[encoded data removed]",
      "text/plain": [
       "<Figure size 432x288 with 1 Axes>"
      ]
     },
     "metadata": {
      "needs_background": "light"
     },
     "output_type": "display_data"
    }
   ],
   "source": [
    "# Heatmap showing null values\n",
    "sns.heatmap(data_train.isnull(), cbar = False)"
   ]
  },
  {
   "cell_type": "code",
   "execution_count": 12,
   "id": "5073cae9",
   "metadata": {},
   "outputs": [],
   "source": [
    "# Replace Age NaN with mean Age of same Pclass\n",
    "data_train['Age'] = data_train.groupby('Pclass').Age.transform(lambda x: x.fillna(x.mean()))\n",
    "data_train.Age = data_train.Age.round()"
   ]
  },
  {
   "cell_type": "code",
   "execution_count": 13,
   "id": "1bfa81c1",
   "metadata": {},
   "outputs": [],
   "source": [
    "data_test['Age'] = data_test.groupby('Pclass').Age.transform(lambda x: x.fillna(x.mean()))\n",
    "data_test.Age = data_test.Age.round()"
   ]
  },
  {
   "cell_type": "code",
   "execution_count": 14,
   "id": "a717f77b",
   "metadata": {},
   "outputs": [],
   "source": [
    "data_test['Fare'] = data_test.Fare.transform(lambda x: x.fillna(x.mean()))"
   ]
  },
  {
   "cell_type": "code",
   "execution_count": 16,
   "id": "d6993c9d",
   "metadata": {},
   "outputs": [
    {
     "name": "stdout",
     "output_type": "stream",
     "text": [
      "Pclass\n",
      "1    38.0\n",
      "2    30.0\n",
      "3    25.0\n",
      "Name: Age, dtype: float64\n"
     ]
    }
   ],
   "source": [
    "print(data_train.groupby(['Pclass']).mean().groupby('Pclass')['Age'].mean().round())"
   ]
  },
  {
   "cell_type": "code",
   "execution_count": 15,
   "id": "63fc15e1",
   "metadata": {},
   "outputs": [
    {
     "data": {
      "text/plain": [
       "PassengerId      0\n",
       "Pclass           0\n",
       "Name             0\n",
       "Sex              0\n",
       "Age              0\n",
       "SibSp            0\n",
       "Parch            0\n",
       "Ticket           0\n",
       "Fare             0\n",
       "Cabin          327\n",
       "Embarked         0\n",
       "dtype: int64"
      ]
     },
     "execution_count": 15,
     "metadata": {},
     "output_type": "execute_result"
    }
   ],
   "source": [
    "data_test.isnull().sum()"
   ]
  },
  {
   "cell_type": "code",
   "execution_count": 17,
   "id": "6830e72d",
   "metadata": {
    "scrolled": true
   },
   "outputs": [
    {
     "name": "stdout",
     "output_type": "stream",
     "text": [
      "   PassengerId  Survived  Pclass  \\\n",
      "0            1         0       3   \n",
      "1            2         1       1   \n",
      "2            3         1       3   \n",
      "3            4         1       1   \n",
      "4            5         0       3   \n",
      "5            6         0       3   \n",
      "6            7         0       1   \n",
      "7            8         0       3   \n",
      "8            9         1       3   \n",
      "9           10         1       2   \n",
      "\n",
      "                                                Name     Sex   Age  SibSp  \\\n",
      "0                            Braund, Mr. Owen Harris    male  22.0      1   \n",
      "1  Cumings, Mrs. John Bradley (Florence Briggs Th...  female  38.0      1   \n",
      "2                             Heikkinen, Miss. Laina  female  26.0      0   \n",
      "3       Futrelle, Mrs. Jacques Heath (Lily May Peel)  female  35.0      1   \n",
      "4                           Allen, Mr. William Henry    male  35.0      0   \n",
      "5                                   Moran, Mr. James    male  25.0      0   \n",
      "6                            McCarthy, Mr. Timothy J    male  54.0      0   \n",
      "7                     Palsson, Master. Gosta Leonard    male   2.0      3   \n",
      "8  Johnson, Mrs. Oscar W (Elisabeth Vilhelmina Berg)  female  27.0      0   \n",
      "9                Nasser, Mrs. Nicholas (Adele Achem)  female  14.0      1   \n",
      "\n",
      "   Parch            Ticket     Fare Cabin Embarked  \n",
      "0      0         A/5 21171   7.2500   NaN        S  \n",
      "1      0          PC 17599  71.2833   C85        C  \n",
      "2      0  STON/O2. 3101282   7.9250   NaN        S  \n",
      "3      0            113803  53.1000  C123        S  \n",
      "4      0            373450   8.0500   NaN        S  \n",
      "5      0            330877   8.4583   NaN        Q  \n",
      "6      0             17463  51.8625   E46        S  \n",
      "7      1            349909  21.0750   NaN        S  \n",
      "8      2            347742  11.1333   NaN        S  \n",
      "9      0            237736  30.0708   NaN        C  \n"
     ]
    }
   ],
   "source": [
    "print(data_train.head(n = 10))"
   ]
  },
  {
   "cell_type": "markdown",
   "id": "438c2947",
   "metadata": {},
   "source": [
    "## One hot encoding"
   ]
  },
  {
   "cell_type": "code",
   "execution_count": 19,
   "id": "78a69ecb",
   "metadata": {},
   "outputs": [],
   "source": [
    "# One hot encoding the variables \"Sex\" and \"Embarked\"\n",
    "sex = pd.get_dummies(data_train['Sex'], drop_first = True)\n",
    "embarked = pd.get_dummies(data_train['Embarked'], drop_first = True)\n",
    "test_sex = pd.get_dummies(data_test['Sex'], drop_first = True)\n",
    "test_embarked = pd.get_dummies(data_test['Embarked'], drop_first = True)"
   ]
  },
  {
   "cell_type": "code",
   "execution_count": 18,
   "id": "2478ebd4",
   "metadata": {},
   "outputs": [],
   "source": [
    "data_train.drop('Cabin', axis = 1, inplace = True)\n",
    "data_test.drop('Cabin', axis = 1, inplace = True)"
   ]
  },
  {
   "cell_type": "code",
   "execution_count": 20,
   "id": "5716b0c5",
   "metadata": {},
   "outputs": [],
   "source": [
    "data_train = pd.concat([data_train, sex, embarked], axis = 1)\n",
    "data_train.drop(['Name', 'PassengerId', 'Ticket', 'Sex', 'Embarked'], axis = 1, inplace = True)"
   ]
  },
  {
   "cell_type": "code",
   "execution_count": 21,
   "id": "cef1b6d6",
   "metadata": {},
   "outputs": [],
   "source": [
    "data_test = pd.concat([data_test, test_sex, test_embarked], axis = 1)\n",
    "data_test.drop(['Name', 'PassengerId', 'Ticket', 'Sex', 'Embarked'], axis = 1, inplace = True)"
   ]
  },
  {
   "cell_type": "code",
   "execution_count": 23,
   "id": "4078fdb5",
   "metadata": {},
   "outputs": [
    {
     "data": {
      "text/html": [
       "<div>\n",
       "<style scoped>\n",
       "    .dataframe tbody tr th:only-of-type {\n",
       "        vertical-align: middle;\n",
       "    }\n",
       "\n",
       "    .dataframe tbody tr th {\n",
       "        vertical-align: top;\n",
       "    }\n",
       "\n",
       "    .dataframe thead th {\n",
       "        text-align: right;\n",
       "    }\n",
       "</style>\n",
       "<table border=\"1\" class=\"dataframe\">\n",
       "  <thead>\n",
       "    <tr style=\"text-align: right;\">\n",
       "      <th></th>\n",
       "      <th>Survived</th>\n",
       "      <th>Pclass</th>\n",
       "      <th>Age</th>\n",
       "      <th>SibSp</th>\n",
       "      <th>Parch</th>\n",
       "      <th>Fare</th>\n",
       "      <th>male</th>\n",
       "      <th>Q</th>\n",
       "      <th>S</th>\n",
       "    </tr>\n",
       "  </thead>\n",
       "  <tbody>\n",
       "    <tr>\n",
       "      <th>0</th>\n",
       "      <td>0</td>\n",
       "      <td>3</td>\n",
       "      <td>22.0</td>\n",
       "      <td>1</td>\n",
       "      <td>0</td>\n",
       "      <td>7.2500</td>\n",
       "      <td>1</td>\n",
       "      <td>0</td>\n",
       "      <td>1</td>\n",
       "    </tr>\n",
       "    <tr>\n",
       "      <th>1</th>\n",
       "      <td>1</td>\n",
       "      <td>1</td>\n",
       "      <td>38.0</td>\n",
       "      <td>1</td>\n",
       "      <td>0</td>\n",
       "      <td>71.2833</td>\n",
       "      <td>0</td>\n",
       "      <td>0</td>\n",
       "      <td>0</td>\n",
       "    </tr>\n",
       "    <tr>\n",
       "      <th>2</th>\n",
       "      <td>1</td>\n",
       "      <td>3</td>\n",
       "      <td>26.0</td>\n",
       "      <td>0</td>\n",
       "      <td>0</td>\n",
       "      <td>7.9250</td>\n",
       "      <td>0</td>\n",
       "      <td>0</td>\n",
       "      <td>1</td>\n",
       "    </tr>\n",
       "    <tr>\n",
       "      <th>3</th>\n",
       "      <td>1</td>\n",
       "      <td>1</td>\n",
       "      <td>35.0</td>\n",
       "      <td>1</td>\n",
       "      <td>0</td>\n",
       "      <td>53.1000</td>\n",
       "      <td>0</td>\n",
       "      <td>0</td>\n",
       "      <td>1</td>\n",
       "    </tr>\n",
       "    <tr>\n",
       "      <th>4</th>\n",
       "      <td>0</td>\n",
       "      <td>3</td>\n",
       "      <td>35.0</td>\n",
       "      <td>0</td>\n",
       "      <td>0</td>\n",
       "      <td>8.0500</td>\n",
       "      <td>1</td>\n",
       "      <td>0</td>\n",
       "      <td>1</td>\n",
       "    </tr>\n",
       "  </tbody>\n",
       "</table>\n",
       "</div>"
      ],
      "text/plain": [
       "   Survived  Pclass   Age  SibSp  Parch     Fare  male  Q  S\n",
       "0         0       3  22.0      1      0   7.2500     1  0  1\n",
       "1         1       1  38.0      1      0  71.2833     0  0  0\n",
       "2         1       3  26.0      0      0   7.9250     0  0  1\n",
       "3         1       1  35.0      1      0  53.1000     0  0  1\n",
       "4         0       3  35.0      0      0   8.0500     1  0  1"
      ]
     },
     "execution_count": 23,
     "metadata": {},
     "output_type": "execute_result"
    }
   ],
   "source": [
    "data_train.head()"
   ]
  },
  {
   "cell_type": "code",
   "execution_count": 24,
   "id": "0b4808e2",
   "metadata": {},
   "outputs": [
    {
     "data": {
      "text/html": [
       "<div>\n",
       "<style scoped>\n",
       "    .dataframe tbody tr th:only-of-type {\n",
       "        vertical-align: middle;\n",
       "    }\n",
       "\n",
       "    .dataframe tbody tr th {\n",
       "        vertical-align: top;\n",
       "    }\n",
       "\n",
       "    .dataframe thead th {\n",
       "        text-align: right;\n",
       "    }\n",
       "</style>\n",
       "<table border=\"1\" class=\"dataframe\">\n",
       "  <thead>\n",
       "    <tr style=\"text-align: right;\">\n",
       "      <th></th>\n",
       "      <th>Pclass</th>\n",
       "      <th>Age</th>\n",
       "      <th>SibSp</th>\n",
       "      <th>Parch</th>\n",
       "      <th>Fare</th>\n",
       "      <th>male</th>\n",
       "      <th>Q</th>\n",
       "      <th>S</th>\n",
       "    </tr>\n",
       "  </thead>\n",
       "  <tbody>\n",
       "    <tr>\n",
       "      <th>0</th>\n",
       "      <td>3</td>\n",
       "      <td>34.0</td>\n",
       "      <td>0</td>\n",
       "      <td>0</td>\n",
       "      <td>7.8292</td>\n",
       "      <td>1</td>\n",
       "      <td>1</td>\n",
       "      <td>0</td>\n",
       "    </tr>\n",
       "    <tr>\n",
       "      <th>1</th>\n",
       "      <td>3</td>\n",
       "      <td>47.0</td>\n",
       "      <td>1</td>\n",
       "      <td>0</td>\n",
       "      <td>7.0000</td>\n",
       "      <td>0</td>\n",
       "      <td>0</td>\n",
       "      <td>1</td>\n",
       "    </tr>\n",
       "    <tr>\n",
       "      <th>2</th>\n",
       "      <td>2</td>\n",
       "      <td>62.0</td>\n",
       "      <td>0</td>\n",
       "      <td>0</td>\n",
       "      <td>9.6875</td>\n",
       "      <td>1</td>\n",
       "      <td>1</td>\n",
       "      <td>0</td>\n",
       "    </tr>\n",
       "    <tr>\n",
       "      <th>3</th>\n",
       "      <td>3</td>\n",
       "      <td>27.0</td>\n",
       "      <td>0</td>\n",
       "      <td>0</td>\n",
       "      <td>8.6625</td>\n",
       "      <td>1</td>\n",
       "      <td>0</td>\n",
       "      <td>1</td>\n",
       "    </tr>\n",
       "    <tr>\n",
       "      <th>4</th>\n",
       "      <td>3</td>\n",
       "      <td>22.0</td>\n",
       "      <td>1</td>\n",
       "      <td>1</td>\n",
       "      <td>12.2875</td>\n",
       "      <td>0</td>\n",
       "      <td>0</td>\n",
       "      <td>1</td>\n",
       "    </tr>\n",
       "  </tbody>\n",
       "</table>\n",
       "</div>"
      ],
      "text/plain": [
       "   Pclass   Age  SibSp  Parch     Fare  male  Q  S\n",
       "0       3  34.0      0      0   7.8292     1  1  0\n",
       "1       3  47.0      1      0   7.0000     0  0  1\n",
       "2       2  62.0      0      0   9.6875     1  1  0\n",
       "3       3  27.0      0      0   8.6625     1  0  1\n",
       "4       3  22.0      1      1  12.2875     0  0  1"
      ]
     },
     "execution_count": 24,
     "metadata": {},
     "output_type": "execute_result"
    }
   ],
   "source": [
    "data_test.head()"
   ]
  },
  {
   "cell_type": "markdown",
   "id": "ce1fea15",
   "metadata": {},
   "source": [
    "## Training and testing the training data"
   ]
  },
  {
   "cell_type": "code",
   "execution_count": 26,
   "id": "b3df1d0a",
   "metadata": {},
   "outputs": [],
   "source": [
    "from sklearn.model_selection import train_test_split\n",
    "X = data_train.drop('Survived', axis = 1)\n",
    "y = data_train['Survived']\n",
    "train_X, val_X, train_y, val_y = train_test_split(X, y, test_size = 0.3)"
   ]
  },
  {
   "cell_type": "code",
   "execution_count": 29,
   "id": "5d3ddc68",
   "metadata": {},
   "outputs": [],
   "source": [
    "from sklearn.naive_bayes import GaussianNB\n",
    "from sklearn.metrics import confusion_matrix, classification_report, roc_auc_score, roc_curve, log_loss\n",
    "from sklearn.metrics import average_precision_score, recall_score, f1_score, jaccard_score, precision_score\n",
    "from sklearn.preprocessing import MinMaxScaler\n",
    "from sklearn.model_selection import RepeatedStratifiedKFold, GridSearchCV"
   ]
  },
  {
   "cell_type": "markdown",
   "id": "02c01076",
   "metadata": {},
   "source": [
    "## Setting up the model"
   ]
  },
  {
   "cell_type": "code",
   "execution_count": 30,
   "id": "f1bf3d7f",
   "metadata": {},
   "outputs": [
    {
     "name": "stdout",
     "output_type": "stream",
     "text": [
      "              precision    recall  f1-score   support\n",
      "\n",
      "           0       0.79      0.86      0.82       156\n",
      "           1       0.78      0.68      0.72       112\n",
      "\n",
      "    accuracy                           0.78       268\n",
      "   macro avg       0.78      0.77      0.77       268\n",
      "weighted avg       0.78      0.78      0.78       268\n",
      "\n"
     ]
    }
   ],
   "source": [
    "bayes_model = GaussianNB()\n",
    "bayes_model.fit(train_X, train_y)\n",
    "predictions = bayes_model.predict(val_X)\n",
    "print(classification_report(val_y, predictions))"
   ]
  },
  {
   "cell_type": "code",
   "execution_count": 61,
   "id": "1810ba32",
   "metadata": {},
   "outputs": [],
   "source": [
    "# Evaluating the metrics for the model\n",
    "accuracy = round(bayes_model.score(val_X, val_y), 3)\n",
    "precision = round(precision_score(val_y, predictions), 3)\n",
    "avg_prec = round(average_precision_score(val_y, predictions), 3)\n",
    "noskill_prob = [[1, 0] for _ in range(len(val_y))]\n",
    "no_skill_loss = round(log_loss(val_y, noskill_prob), 3)\n",
    "baseline_prob = [[0.62, 0.38] for _ in range(len(val_y))]\n",
    "baseline_loss = round(log_loss(val_y, baseline_prob), 3)\n",
    "jacard = round(jaccard_score(val_y, predictions), 3)\n",
    "bayes_metric = pd.Series({'Accuracy': accuracy, 'Precision': precision, 'Average Precision': avg_prec, \n",
    "                        'No Skill Log Loss': no_skill_loss, 'Baseline Log Loss': baseline_loss,\n",
    "                          'Jaccard Score' :jacard})"
   ]
  },
  {
   "cell_type": "code",
   "execution_count": 62,
   "id": "72f8698a",
   "metadata": {},
   "outputs": [
    {
     "data": {
      "text/plain": [
       "Accuracy              0.784\n",
       "Precision             0.776\n",
       "Average Precision     0.661\n",
       "No Skill Log Loss    14.434\n",
       "Baseline Log Loss     0.683\n",
       "Jaccard Score         0.567\n",
       "dtype: float64"
      ]
     },
     "execution_count": 62,
     "metadata": {},
     "output_type": "execute_result"
    }
   ],
   "source": [
    "bayes_metric"
   ]
  },
  {
   "cell_type": "code",
   "execution_count": 35,
   "id": "667d887a",
   "metadata": {},
   "outputs": [
    {
     "data": {
      "text/plain": [
       "Text(1.2, 1.7, 'True Predicted Survivor')"
      ]
     },
     "execution_count": 35,
     "metadata": {},
     "output_type": "execute_result"
    },
    {
     "data": {
      "image/png": "[encoded data removed]",
      "text/plain": [
       "<Figure size 432x288 with 2 Axes>"
      ]
     },
     "metadata": {
      "needs_background": "light"
     },
     "output_type": "display_data"
    }
   ],
   "source": [
    "# Confusion Matrix\n",
    "cn_mx = confusion_matrix(val_y, predictions)\n",
    "class_names = [0, 1]\n",
    "fig, ax = plt.subplots()\n",
    "tick_marks = np.arange(len(class_names))\n",
    "plt.xticks(tick_marks, class_names)\n",
    "plt.yticks(tick_marks, class_names)\n",
    "\n",
    "sns.heatmap(pd.DataFrame(cn_mx), annot = True, cmap = 'YlGnBu', fmt = 'g')\n",
    "ax.xaxis.set_label_position('top')\n",
    "plt.tight_layout()\n",
    "plt.title('Confusion Matrix', y = 1.1)\n",
    "plt.ylabel('Predicted')\n",
    "plt.xlabel('Actual')\n",
    "ax.set_yticklabels(['Positive', 'Negative'])\n",
    "ax.set_xticklabels(['Positive', 'Negative'])\n",
    "ax.text(0.2, 0.7, 'True Predicted Death', style = 'italic', color = 'white', size = 10)\n",
    "ax.text(0.2, 1.7, 'False Predicted Survivor', style = 'italic', size = 10)\n",
    "ax.text(1.2, 0.7, 'False Predicted Death', style = 'italic', size = 10)\n",
    "ax.text(1.2, 1.7, 'True Predicted Survivor', style = 'italic', color = 'white', size = 10)"
   ]
  },
  {
   "cell_type": "code",
   "execution_count": 36,
   "id": "da87de3c",
   "metadata": {},
   "outputs": [
    {
     "data": {
      "image/png": "[encoded data removed]",
      "text/plain": [
       "<Figure size 432x288 with 1 Axes>"
      ]
     },
     "metadata": {
      "needs_background": "light"
     },
     "output_type": "display_data"
    }
   ],
   "source": [
    "# Receiver Operating Characteristic (ROC) curve\n",
    "roc_auc = roc_auc_score(val_y, bayes_model.predict(val_X))\n",
    "fpr, tpr, thresholds = roc_curve(val_y, bayes_model.predict_proba(val_X)[:,1])\n",
    "plt.figure()\n",
    "plt.plot(fpr, tpr, label = 'Naive Bayes: Gaussian (area = %0.2f)' % roc_auc)\n",
    "plt.plot([0,1], [0,1], 'r--')\n",
    "plt.xlim([0.0, 1.0])\n",
    "plt.ylim([0.0, 1.05])\n",
    "plt.xlabel('False Positive Rate')\n",
    "plt.ylabel('True Positive Rate')\n",
    "plt.title('Receiver operating characteristic')\n",
    "plt.legend(loc = \"lower right\")\n",
    "plt.show()"
   ]
  },
  {
   "cell_type": "markdown",
   "id": "8998c8a3",
   "metadata": {},
   "source": [
    "## Hyperparameter Tuning"
   ]
  },
  {
   "cell_type": "code",
   "execution_count": 39,
   "id": "8ea4385c",
   "metadata": {},
   "outputs": [
    {
     "name": "stdout",
     "output_type": "stream",
     "text": [
      "Fitting 30 folds for each of 100 candidates, totalling 3000 fits\n",
      "Best: 0.788231 using {'var_smoothing': 1.873817422860383e-05}\n",
      "0.643096 (0.026789) with: {'var_smoothing': 1.0}\n",
      "0.644594 (0.025467) with: {'var_smoothing': 0.8111308307896871}\n",
      "0.644220 (0.025608) with: {'var_smoothing': 0.657933224657568}\n",
      "0.644220 (0.025608) with: {'var_smoothing': 0.533669923120631}\n",
      "0.649455 (0.025546) with: {'var_smoothing': 0.43287612810830584}\n",
      "0.654320 (0.025633) with: {'var_smoothing': 0.3511191734215131}\n",
      "0.658069 (0.023885) with: {'var_smoothing': 0.2848035868435802}\n",
      "0.657699 (0.026198) with: {'var_smoothing': 0.23101297000831597}\n",
      "0.659197 (0.027081) with: {'var_smoothing': 0.1873817422860384}\n",
      "0.661444 (0.026830) with: {'var_smoothing': 0.15199110829529336}\n",
      "0.662950 (0.027221) with: {'var_smoothing': 0.12328467394420659}\n",
      "0.664074 (0.027884) with: {'var_smoothing': 0.1}\n",
      "0.666692 (0.027631) with: {'var_smoothing': 0.08111308307896872}\n",
      "0.667811 (0.028778) with: {'var_smoothing': 0.0657933224657568}\n",
      "0.667811 (0.029643) with: {'var_smoothing': 0.0533669923120631}\n",
      "0.669309 (0.030893) with: {'var_smoothing': 0.04328761281083057}\n",
      "0.670429 (0.031563) with: {'var_smoothing': 0.03511191734215131}\n",
      "0.669675 (0.032560) with: {'var_smoothing': 0.02848035868435802}\n",
      "0.669301 (0.033337) with: {'var_smoothing': 0.02310129700083159}\n",
      "0.669301 (0.033337) with: {'var_smoothing': 0.01873817422860384}\n",
      "0.669675 (0.033452) with: {'var_smoothing': 0.01519911082952933}\n",
      "0.669301 (0.033337) with: {'var_smoothing': 0.012328467394420659}\n",
      "0.669675 (0.033073) with: {'var_smoothing': 0.01}\n",
      "0.669301 (0.033083) with: {'var_smoothing': 0.008111308307896872}\n",
      "0.670050 (0.032673) with: {'var_smoothing': 0.006579332246575682}\n",
      "0.670050 (0.032673) with: {'var_smoothing': 0.005336699231206307}\n",
      "0.671174 (0.030742) with: {'var_smoothing': 0.004328761281083057}\n",
      "0.671174 (0.030742) with: {'var_smoothing': 0.003511191734215131}\n",
      "0.671548 (0.030844) with: {'var_smoothing': 0.002848035868435802}\n",
      "0.672667 (0.030619) with: {'var_smoothing': 0.0023101297000831605}\n",
      "0.673791 (0.030584) with: {'var_smoothing': 0.001873817422860383}\n",
      "0.673791 (0.029904) with: {'var_smoothing': 0.0015199110829529332}\n",
      "0.674540 (0.030323) with: {'var_smoothing': 0.0012328467394420659}\n",
      "0.675664 (0.029083) with: {'var_smoothing': 0.001}\n",
      "0.677903 (0.029687) with: {'var_smoothing': 0.0008111308307896872}\n",
      "0.680520 (0.027293) with: {'var_smoothing': 0.0006579332246575676}\n",
      "0.683887 (0.028420) with: {'var_smoothing': 0.0005336699231206307}\n",
      "0.687253 (0.028220) with: {'var_smoothing': 0.0004328761281083057}\n",
      "0.691369 (0.029808) with: {'var_smoothing': 0.0003511191734215131}\n",
      "0.698107 (0.031233) with: {'var_smoothing': 0.0002848035868435802}\n",
      "0.703720 (0.030851) with: {'var_smoothing': 0.0002310129700083158}\n",
      "0.707087 (0.032931) with: {'var_smoothing': 0.0001873817422860383}\n",
      "0.711194 (0.035756) with: {'var_smoothing': 0.0001519911082952933}\n",
      "0.717183 (0.039153) with: {'var_smoothing': 0.0001232846739442066}\n",
      "0.723171 (0.037715) with: {'var_smoothing': 0.0001}\n",
      "0.728785 (0.041293) with: {'var_smoothing': 8.111308307896872e-05}\n",
      "0.737012 (0.045714) with: {'var_smoothing': 6.579332246575683e-05}\n",
      "0.742996 (0.048744) with: {'var_smoothing': 5.3366992312063123e-05}\n",
      "0.766571 (0.041870) with: {'var_smoothing': 4.328761281083062e-05}\n",
      "0.781898 (0.040961) with: {'var_smoothing': 3.511191734215127e-05}\n",
      "0.787491 (0.040108) with: {'var_smoothing': 2.848035868435799e-05}\n",
      "0.785993 (0.039481) with: {'var_smoothing': 2.310129700083158e-05}\n",
      "0.788231 (0.041039) with: {'var_smoothing': 1.873817422860383e-05}\n",
      "0.786733 (0.042781) with: {'var_smoothing': 1.5199110829529332e-05}\n",
      "0.782622 (0.045224) with: {'var_smoothing': 1.2328467394420658e-05}\n",
      "0.781128 (0.046147) with: {'var_smoothing': 1e-05}\n",
      "0.781498 (0.046149) with: {'var_smoothing': 8.111308307896873e-06}\n",
      "0.784861 (0.045382) with: {'var_smoothing': 6.579332246575683e-06}\n",
      "0.785984 (0.046099) with: {'var_smoothing': 5.336699231206313e-06}\n",
      "0.785239 (0.046246) with: {'var_smoothing': 4.328761281083053e-06}\n",
      "0.784865 (0.046642) with: {'var_smoothing': 3.5111917342151275e-06}\n",
      "0.785239 (0.046337) with: {'var_smoothing': 2.848035868435799e-06}\n",
      "0.785988 (0.045896) with: {'var_smoothing': 2.310129700083158e-06}\n",
      "0.785614 (0.045660) with: {'var_smoothing': 1.873817422860383e-06}\n",
      "0.785614 (0.045660) with: {'var_smoothing': 1.519911082952933e-06}\n",
      "0.785988 (0.045527) with: {'var_smoothing': 1.232846739442066e-06}\n",
      "0.785988 (0.045527) with: {'var_smoothing': 1e-06}\n",
      "0.785988 (0.045527) with: {'var_smoothing': 8.111308307896872e-07}\n",
      "0.785988 (0.045527) with: {'var_smoothing': 6.579332246575682e-07}\n",
      "0.785988 (0.045527) with: {'var_smoothing': 5.336699231206313e-07}\n",
      "0.785988 (0.045527) with: {'var_smoothing': 4.3287612810830526e-07}\n",
      "0.785988 (0.045527) with: {'var_smoothing': 3.5111917342151277e-07}\n",
      "0.785988 (0.045527) with: {'var_smoothing': 2.848035868435799e-07}\n",
      "0.785988 (0.045527) with: {'var_smoothing': 2.310129700083158e-07}\n",
      "0.785988 (0.045527) with: {'var_smoothing': 1.873817422860383e-07}\n",
      "0.785988 (0.045527) with: {'var_smoothing': 1.519911082952933e-07}\n",
      "0.785988 (0.045527) with: {'var_smoothing': 1.232846739442066e-07}\n",
      "0.785988 (0.045527) with: {'var_smoothing': 1e-07}\n",
      "0.785988 (0.045527) with: {'var_smoothing': 8.111308307896873e-08}\n",
      "0.785988 (0.045527) with: {'var_smoothing': 6.579332246575682e-08}\n",
      "0.785988 (0.045527) with: {'var_smoothing': 5.336699231206302e-08}\n",
      "0.785988 (0.045527) with: {'var_smoothing': 4.3287612810830526e-08}\n",
      "0.785988 (0.045527) with: {'var_smoothing': 3.5111917342151277e-08}\n",
      "0.785988 (0.045527) with: {'var_smoothing': 2.848035868435799e-08}\n",
      "0.785988 (0.045527) with: {'var_smoothing': 2.310129700083158e-08}\n",
      "0.785988 (0.045527) with: {'var_smoothing': 1.873817422860383e-08}\n",
      "0.785988 (0.045527) with: {'var_smoothing': 1.519911082952933e-08}\n",
      "0.785988 (0.045527) with: {'var_smoothing': 1.232846739442066e-08}\n",
      "0.785988 (0.045527) with: {'var_smoothing': 1e-08}\n",
      "0.785988 (0.045527) with: {'var_smoothing': 8.111308307896856e-09}\n",
      "0.785988 (0.045527) with: {'var_smoothing': 6.579332246575682e-09}\n",
      "0.785988 (0.045527) with: {'var_smoothing': 5.336699231206302e-09}\n",
      "0.785988 (0.045527) with: {'var_smoothing': 4.328761281083061e-09}\n",
      "0.785988 (0.045527) with: {'var_smoothing': 3.5111917342151273e-09}\n",
      "0.785988 (0.045527) with: {'var_smoothing': 2.848035868435805e-09}\n",
      "0.785988 (0.045527) with: {'var_smoothing': 2.310129700083158e-09}\n",
      "0.785988 (0.045527) with: {'var_smoothing': 1.873817422860387e-09}\n",
      "0.785988 (0.045527) with: {'var_smoothing': 1.519911082952933e-09}\n",
      "0.785988 (0.045527) with: {'var_smoothing': 1.2328467394420635e-09}\n",
      "0.785988 (0.045527) with: {'var_smoothing': 1e-09}\n"
     ]
    }
   ],
   "source": [
    "# example of grid searching key hyperparametres for naive bayes\n",
    "param_grid = {'var_smoothing': np.logspace(0, -9, num = 100)}\n",
    "cv = RepeatedStratifiedKFold(n_splits = 10, n_repeats = 3, random_state = 1)\n",
    "grid_search = GridSearchCV(estimator = bayes_model, \n",
    "                 param_grid = param_grid, \n",
    "                 cv = cv, \n",
    "                 verbose = 1, \n",
    "                 scoring = 'accuracy') \n",
    "grid_result = grid_search.fit(X, y)\n",
    "\n",
    "# summarize results\n",
    "print(\"Best: %f using %s\" % (grid_result.best_score_, grid_result.best_params_))\n",
    "means = grid_result.cv_results_['mean_test_score']\n",
    "stds = grid_result.cv_results_['std_test_score']\n",
    "params = grid_result.cv_results_['params']\n",
    "for mean, stdev, param in zip(means, stds, params):\n",
    "    print(\"%f (%f) with: %r\" % (mean, stdev, param))"
   ]
  },
  {
   "cell_type": "code",
   "execution_count": 41,
   "id": "4e717348",
   "metadata": {},
   "outputs": [
    {
     "name": "stdout",
     "output_type": "stream",
     "text": [
      "Accuracy of logistic regression classifier:  0.7910447761194029\n",
      "              precision    recall  f1-score   support\n",
      "\n",
      "           0       0.77      0.90      0.83       156\n",
      "           1       0.83      0.63      0.72       112\n",
      "\n",
      "    accuracy                           0.79       268\n",
      "   macro avg       0.80      0.77      0.78       268\n",
      "weighted avg       0.80      0.79      0.79       268\n",
      "\n"
     ]
    }
   ],
   "source": [
    "# Retuned parameter model\n",
    "# Best: 0.788231 using {'var_smoothing': 1.873817422860383e-05}\n",
    "tuned_model = GaussianNB(var_smoothing = 1.873817422860383e-05)\n",
    "tuned_model.fit(train_X, train_y)\n",
    "tuned_predict = tuned_model.predict(val_X)\n",
    "# Get the accuracy score of model and print it\n",
    "print(\"Accuracy of logistic regression classifier: \", tuned_model.score(val_X, val_y))\n",
    "print(classification_report(val_y, tuned_predict))"
   ]
  },
  {
   "cell_type": "code",
   "execution_count": 59,
   "id": "d6929655",
   "metadata": {},
   "outputs": [],
   "source": [
    "# Get the accuracy score of logreg model and print it\n",
    "tuned_accuracy = round(tuned_model.score(val_X, val_y), 3)\n",
    "tuned_precision = round(precision_score(val_y, tuned_predict), 3)\n",
    "tuned_avg_prec = round(average_precision_score(val_y, tuned_predict), 3)\n",
    "noskill_prob = [[1, 0] for _ in range(len(val_y))]\n",
    "no_skill_loss = round(log_loss(val_y, noskill_prob), 3)\n",
    "baseline_prob = [[0.62, 0.38] for _ in range(len(val_y))]\n",
    "baseline_loss = round(log_loss(val_y, baseline_prob), 3)\n",
    "tuned_jacard = round(jaccard_score(val_y, tuned_predict), 3)\n",
    "tuned_metric = pd.Series({'Accuracy': tuned_accuracy, 'Precision': tuned_precision,\n",
    "                          'Average Precision': tuned_avg_prec, 'No Skill Log Loss': no_skill_loss,\n",
    "                          'Baseline Log Loss': baseline_loss, 'Jaccard Score' :tuned_jacard})"
   ]
  },
  {
   "cell_type": "code",
   "execution_count": 60,
   "id": "2cc334e6",
   "metadata": {
    "scrolled": true
   },
   "outputs": [
    {
     "data": {
      "text/plain": [
       "Accuracy              0.791\n",
       "Precision             0.826\n",
       "Average Precision     0.676\n",
       "No Skill Log Loss    14.434\n",
       "Baseline Log Loss     0.683\n",
       "Jaccard Score         0.559\n",
       "dtype: float64"
      ]
     },
     "execution_count": 60,
     "metadata": {},
     "output_type": "execute_result"
    }
   ],
   "source": [
    "tuned_metric"
   ]
  },
  {
   "cell_type": "code",
   "execution_count": 53,
   "id": "51d1e59b",
   "metadata": {},
   "outputs": [
    {
     "data": {
      "text/plain": [
       "Text(1.2, 1.7, 'True Predicted Survivor')"
      ]
     },
     "execution_count": 53,
     "metadata": {},
     "output_type": "execute_result"
    },
    {
     "data": {
      "image/png": "[encoded data removed]",
      "text/plain": [
       "<Figure size 432x288 with 2 Axes>"
      ]
     },
     "metadata": {
      "needs_background": "light"
     },
     "output_type": "display_data"
    }
   ],
   "source": [
    "tuned_conmatrix = confusion_matrix(val_y, tuned_predict)\n",
    "class_names = [0, 1]\n",
    "fig, ax = plt.subplots()\n",
    "tick_marks = np.arange(len(class_names))\n",
    "plt.xticks(tick_marks, class_names)\n",
    "plt.yticks(tick_marks, class_names)\n",
    "\n",
    "sns.heatmap(pd.DataFrame(tuned_conmatrix), annot = True, cmap = 'YlGnBu', fmt = 'g')\n",
    "ax.xaxis.set_label_position('top')\n",
    "plt.tight_layout()\n",
    "plt.title('Confusion Matrix', y = 1.1)\n",
    "plt.ylabel('Predicted')\n",
    "plt.xlabel('Actual')\n",
    "ax.set_yticklabels(['Positive', 'Negative'])\n",
    "ax.set_xticklabels(['Positive', 'Negative'])\n",
    "ax.text(0.2, 0.7, 'True Predicted Death', style = 'italic', color = 'white', size = 10)\n",
    "ax.text(0.2, 1.7, 'False Predicted Survivor', style = 'italic', size = 10)\n",
    "ax.text(1.2, 0.7, 'False Predicted Death', style = 'italic', size = 10)\n",
    "ax.text(1.2, 1.7, 'True Predicted Survivor', style = 'italic', color = 'white', size = 10)"
   ]
  },
  {
   "cell_type": "code",
   "execution_count": 55,
   "id": "7888c03d",
   "metadata": {},
   "outputs": [
    {
     "data": {
      "image/png": "[encoded data removed]",
      "text/plain": [
       "<Figure size 432x288 with 1 Axes>"
      ]
     },
     "metadata": {
      "needs_background": "light"
     },
     "output_type": "display_data"
    }
   ],
   "source": [
    "tuned_roc_auc = roc_auc_score(val_y, tuned_model.predict(val_X))\n",
    "fpr, tpr, thresholds = roc_curve(val_y, tuned_model.predict_proba(val_X)[:,1])\n",
    "plt.figure()\n",
    "plt.plot(fpr, tpr, label = 'Tuned Gaussian Model (area = %0.2f)' % tuned_roc_auc)\n",
    "plt.plot([0,1], [0,1], 'r--')\n",
    "plt.xlim([0.0, 1.0])\n",
    "plt.ylim([0.0, 1.05])\n",
    "plt.xlabel('False Positive Rate')\n",
    "plt.ylabel('True Positive Rate')\n",
    "plt.title('Receiver operating characteristic')\n",
    "plt.legend(loc = \"lower right\")\n",
    "plt.show()"
   ]
  },
  {
   "cell_type": "code",
   "execution_count": 63,
   "id": "f785a49e",
   "metadata": {},
   "outputs": [],
   "source": [
    "compare = pd.DataFrame.from_dict({'Bayes Model': bayes_metric, 'Tuned Bayes Model': tuned_metric})"
   ]
  },
  {
   "cell_type": "code",
   "execution_count": 64,
   "id": "55b8bb23",
   "metadata": {},
   "outputs": [
    {
     "data": {
      "text/html": [
       "<div>\n",
       "<style scoped>\n",
       "    .dataframe tbody tr th:only-of-type {\n",
       "        vertical-align: middle;\n",
       "    }\n",
       "\n",
       "    .dataframe tbody tr th {\n",
       "        vertical-align: top;\n",
       "    }\n",
       "\n",
       "    .dataframe thead th {\n",
       "        text-align: right;\n",
       "    }\n",
       "</style>\n",
       "<table border=\"1\" class=\"dataframe\">\n",
       "  <thead>\n",
       "    <tr style=\"text-align: right;\">\n",
       "      <th></th>\n",
       "      <th>Bayes Model</th>\n",
       "      <th>Tuned Bayes Model</th>\n",
       "    </tr>\n",
       "  </thead>\n",
       "  <tbody>\n",
       "    <tr>\n",
       "      <th>Accuracy</th>\n",
       "      <td>0.784</td>\n",
       "      <td>0.791</td>\n",
       "    </tr>\n",
       "    <tr>\n",
       "      <th>Precision</th>\n",
       "      <td>0.776</td>\n",
       "      <td>0.826</td>\n",
       "    </tr>\n",
       "    <tr>\n",
       "      <th>Average Precision</th>\n",
       "      <td>0.661</td>\n",
       "      <td>0.676</td>\n",
       "    </tr>\n",
       "    <tr>\n",
       "      <th>No Skill Log Loss</th>\n",
       "      <td>14.434</td>\n",
       "      <td>14.434</td>\n",
       "    </tr>\n",
       "    <tr>\n",
       "      <th>Baseline Log Loss</th>\n",
       "      <td>0.683</td>\n",
       "      <td>0.683</td>\n",
       "    </tr>\n",
       "    <tr>\n",
       "      <th>Jaccard Score</th>\n",
       "      <td>0.567</td>\n",
       "      <td>0.559</td>\n",
       "    </tr>\n",
       "  </tbody>\n",
       "</table>\n",
       "</div>"
      ],
      "text/plain": [
       "                   Bayes Model  Tuned Bayes Model\n",
       "Accuracy                 0.784              0.791\n",
       "Precision                0.776              0.826\n",
       "Average Precision        0.661              0.676\n",
       "No Skill Log Loss       14.434             14.434\n",
       "Baseline Log Loss        0.683              0.683\n",
       "Jaccard Score            0.567              0.559"
      ]
     },
     "execution_count": 64,
     "metadata": {},
     "output_type": "execute_result"
    }
   ],
   "source": [
    "compare"
   ]
  },
  {
   "cell_type": "code",
   "execution_count": 56,
   "id": "15f3c94b",
   "metadata": {},
   "outputs": [],
   "source": [
    "bayes_pred_check = bayes_model.predict(data_test)\n",
    "tuned_pred_check = tuned_model.predict(data_test)"
   ]
  },
  {
   "cell_type": "code",
   "execution_count": 58,
   "id": "fbd91c10",
   "metadata": {},
   "outputs": [
    {
     "name": "stdout",
     "output_type": "stream",
     "text": [
      "Survived - Bayes Model:  173\n",
      "Died - Bayes Model:  245\n",
      "Survived - Tuned Model:  151\n",
      "Died - Tuned Model:  267\n"
     ]
    }
   ],
   "source": [
    "bayes_survive = np.count_nonzero(bayes_pred_check == 1)\n",
    "bayes_died = np.count_nonzero(bayes_pred_check == 0)\n",
    "print(\"Survived - Bayes Model: \", bayes_survive)\n",
    "print(\"Died - Bayes Model: \", bayes_died)\n",
    "tuned_survive = np.count_nonzero(tuned_pred_check == 1)\n",
    "tuned_died = np.count_nonzero(tuned_pred_check == 0)\n",
    "print(\"Survived - Tuned Model: \", tuned_survive)\n",
    "print(\"Died - Tuned Model: \", tuned_died)"
   ]
  },
  {
   "cell_type": "markdown",
   "id": "bb3b000e",
   "metadata": {},
   "source": [
    "## The tuned model slightly improves on the original Gaussian model. There was a slight improvement in accuracy, precision, and average precision. Accuracy improved by 0.7%, precision improved by 5%, and average precision improved by 1.5%. The original model performed better on the Jaccard score with an improvement of 0.8%.\n",
    "## Although the metrics only saw a small improvement between the two models, using the tuned model would be ideal considering the 5% increase in precision."
   ]
  },
  {
   "cell_type": "code",
   "execution_count": null,
   "id": "05d1a774",
   "metadata": {},
   "outputs": [],
   "source": []
  }
 ],
 "metadata": {
  "kernelspec": {
   "display_name": "Python 3 (ipykernel)",
   "language": "python",
   "name": "python3"
  },
  "language_info": {
   "codemirror_mode": {
    "name": "ipython",
    "version": 3
   },
   "file_extension": ".py",
   "mimetype": "text/x-python",
   "name": "python",
   "nbconvert_exporter": "python",
   "pygments_lexer": "ipython3",
   "version": "3.8.8"
  }
 },
 "nbformat": 4,
 "nbformat_minor": 5
}
